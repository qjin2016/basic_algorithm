{
 "cells": [
  {
   "cell_type": "markdown",
   "metadata": {
    "collapsed": true
   },
   "source": [
    "## sorting and searching"
   ]
  },
  {
   "cell_type": "code",
   "execution_count": 5,
   "metadata": {
    "collapsed": true
   },
   "outputs": [],
   "source": [
    "def binarySearch(alist, item):\n",
    "    first = 0\n",
    "    last = len(alist) - 1\n",
    "    found = False\n",
    "    while first <= last and not found:\n",
    "        middle = (first + last) // 2\n",
    "        if alist[middle] == item:\n",
    "            found = True\n",
    "        elif alist[middle] > item:\n",
    "            last = middle - 1\n",
    "        else:\n",
    "            first = middle + 1\n",
    "    return found"
   ]
  },
  {
   "cell_type": "code",
   "execution_count": 6,
   "metadata": {
    "collapsed": false
   },
   "outputs": [
    {
     "data": {
      "text/plain": [
       "True"
      ]
     },
     "execution_count": 6,
     "metadata": {},
     "output_type": "execute_result"
    }
   ],
   "source": [
    "# test\n",
    "binarySearch([1,2,3,4,5], 2)"
   ]
  },
  {
   "cell_type": "code",
   "execution_count": 7,
   "metadata": {
    "collapsed": false
   },
   "outputs": [
    {
     "data": {
      "text/plain": [
       "97"
      ]
     },
     "execution_count": 7,
     "metadata": {},
     "output_type": "execute_result"
    }
   ],
   "source": [
    "ord(\"a\")"
   ]
  },
  {
   "cell_type": "code",
   "execution_count": 2,
   "metadata": {
    "collapsed": false
   },
   "outputs": [],
   "source": [
    "# hashing\n",
    "class HashTable:\n",
    "    def __init__(self):\n",
    "        self.size = 11\n",
    "        self.slots = [None] * self.size\n",
    "        self.data = [None] * self.size\n",
    "        \n",
    "    def put(self, key, data):\n",
    "        hashvalue = self.hashfunction(key)\n",
    "        if self.slots[hashvalue] == None:\n",
    "            self.slots[hashvalue] = key\n",
    "            self.data[hashvalue] = data\n",
    "        else:\n",
    "            if self.slots[hashvalue] == key:\n",
    "                self.data[hashvalue] = data # replace\n",
    "            else:\n",
    "                nextslot = self.rehash(hashvalue)\n",
    "                while self.slots[nextslot] != None and self.slots[nextslot] != key:\n",
    "                    nextslot = self.rehash(nextslot)\n",
    "                    \n",
    "                if self.slots[nextslot] == None:\n",
    "                    self.slots[nextslot] = key\n",
    "                    self.data[nextslot] = data\n",
    "                else:\n",
    "                    self.data[nextslot] = data\n",
    "    \n",
    "    def get(self, key):\n",
    "        startslot = self.hashfunction(key)\n",
    "        data = None\n",
    "        stop = False\n",
    "        found = False\n",
    "        position = startslot\n",
    "        \n",
    "        while self.slots[position] != None and not found and not stop:\n",
    "            if self.slots[position] == key:\n",
    "                found = True\n",
    "                data = self.data[position]\n",
    "            else:\n",
    "                position = self.rehash(position)\n",
    "                if position == startslot:\n",
    "                    stop = True\n",
    "        return data\n",
    "    \n",
    "    def __getitem__(self, key):\n",
    "        return self.get(key)\n",
    "    \n",
    "    def hashfunction(self, key):\n",
    "        return key % self.size\n",
    "    \n",
    "    def rehash(self, oldhash):\n",
    "        return (oldhash + 1) % self.size"
   ]
  },
  {
   "cell_type": "markdown",
   "metadata": {
    "collapsed": true
   },
   "source": [
    "## SORTING"
   ]
  },
  {
   "cell_type": "code",
   "execution_count": 1,
   "metadata": {
    "collapsed": true
   },
   "outputs": [],
   "source": [
    "# bubble sort\n",
    "# pass a list multiple times,\n",
    "# compare and exchange values that are out of order\n",
    "# the first pass will result in the largest value being placed at the end of a list"
   ]
  },
  {
   "cell_type": "code",
   "execution_count": 2,
   "metadata": {
    "collapsed": false
   },
   "outputs": [
    {
     "data": {
      "text/plain": [
       "(2, 1)"
      ]
     },
     "execution_count": 2,
     "metadata": {},
     "output_type": "execute_result"
    }
   ],
   "source": [
    "# swap trick in python\n",
    "test1 = 1\n",
    "test2 = 2\n",
    "test1, test2 = test2, test1\n",
    "test1, test2"
   ]
  },
  {
   "cell_type": "code",
   "execution_count": 1,
   "metadata": {
    "collapsed": false
   },
   "outputs": [
    {
     "data": {
      "text/plain": [
       "[1, 2, 3, 5, 6]"
      ]
     },
     "execution_count": 1,
     "metadata": {},
     "output_type": "execute_result"
    }
   ],
   "source": [
    "def bubbleSort(alist):\n",
    "    for num_passes in range(len(alist)-1, 0, -1):\n",
    "        for i in range(num_passes):\n",
    "            if alist[i] > alist[i+1]:\n",
    "                alist[i], alist[i+1] = alist[i+1], alist[i]\n",
    "# test                \n",
    "alist = [1, 3, 2, 5, 6]\n",
    "bubbleSort(alist)\n",
    "alist"
   ]
  },
  {
   "cell_type": "code",
   "execution_count": 2,
   "metadata": {
    "collapsed": false
   },
   "outputs": [
    {
     "data": {
      "text/plain": [
       "([1, 2, 3, 4], [3, 6, 9, 10])"
      ]
     },
     "execution_count": 2,
     "metadata": {},
     "output_type": "execute_result"
    }
   ],
   "source": [
    "# a modified bubble sort that will stop if finds out the list in sorting is already sorted\n",
    "def shortBubbleSort(alist):\n",
    "    exchanges = True\n",
    "    passnum = len(alist) - 1\n",
    "    while exchanges and passnum > 0:\n",
    "        exchanges = False\n",
    "        for i in range(passnum):\n",
    "            if alist[i] > alist[i+1]:\n",
    "                exchanges = True\n",
    "                alist[i], alist[i+1] = alist[i+1], alist[i]\n",
    "        passnum -= 1\n",
    "    return alist\n",
    "\n",
    "# test\n",
    "alist1 = [1, 2, 3, 4]\n",
    "alist2 = [10, 3, 6, 9]\n",
    "shortBubbleSort(alist1), shortBubbleSort(alist2)"
   ]
  },
  {
   "cell_type": "code",
   "execution_count": 3,
   "metadata": {
    "collapsed": false
   },
   "outputs": [
    {
     "data": {
      "text/plain": [
       "[1, 2, 3, 5, 6]"
      ]
     },
     "execution_count": 3,
     "metadata": {},
     "output_type": "execute_result"
    }
   ],
   "source": [
    "### selection sort\n",
    "# each time find out the largest value and place it in the proper position\n",
    "def selectionSort(alist):\n",
    "    for fillslot in range(len(alist)-1, 0, -1):\n",
    "        largest = alist[0]\n",
    "        index = 0\n",
    "        for i in range(1, fillslot+1):\n",
    "            if alist[i] > largest:\n",
    "                largest = alist[i]\n",
    "                index = i\n",
    "        alist[index] = alist[fillslot]\n",
    "        alist[fillslot] = largest\n",
    "    return alist\n",
    "\n",
    "# test\n",
    "selectionSort([1, 3, 2, 6, 5])\n",
    "        "
   ]
  },
  {
   "cell_type": "code",
   "execution_count": 4,
   "metadata": {
    "collapsed": false
   },
   "outputs": [
    {
     "data": {
      "text/plain": [
       "[1, 2, 3]"
      ]
     },
     "execution_count": 4,
     "metadata": {},
     "output_type": "execute_result"
    }
   ],
   "source": [
    "### insertion sort\n",
    "# maintain a sorted sublist in the lower positions of the list\n",
    "def insertionSort(alist):\n",
    "    for index in range(1, len(alist)):\n",
    "        currentvalue = alist[index]\n",
    "        position = index\n",
    "        while position > 0 and alist[position-1] > currentvalue:\n",
    "            alist[position] = alist[position-1]\n",
    "            position -= 1\n",
    "        alist[position] = currentvalue\n",
    "    return alist\n",
    "        \n",
    "# test\n",
    "insertionSort([1, 3, 2])"
   ]
  },
  {
   "cell_type": "code",
   "execution_count": 27,
   "metadata": {
    "collapsed": false
   },
   "outputs": [
    {
     "name": "stdout",
     "output_type": "stream",
     "text": [
      "After increments of size 4 The list is [20, 26, 44, 17, 54, 31, 93, 55, 77]\n",
      "After increments of size 2 The list is [20, 17, 44, 26, 54, 31, 77, 55, 93]\n",
      "After increments of size 1 The list is [17, 20, 26, 31, 44, 54, 55, 77, 93]\n"
     ]
    }
   ],
   "source": [
    "### shell sort\n",
    "def shellSort(alist):\n",
    "    sublistcount = len(alist) // 2\n",
    "    while sublistcount > 0:\n",
    "        for startposition in range(sublistcount):\n",
    "            gapInsertionSort(alist, startposition, sublistcount)\n",
    "        print(\"After increments of size\", sublistcount, \"The list is\", alist)\n",
    "        sublistcount //= 2\n",
    "\n",
    "def gapInsertionSort(alist, start, gap):\n",
    "    for i in range(start+gap, len(alist), gap):\n",
    "        currentvalue = alist[i]\n",
    "        position = i\n",
    "        while position >= gap and alist[position-gap] > currentvalue:\n",
    "            alist[position] = alist[position-gap]\n",
    "            position -= gap\n",
    "        alist[position] = currentvalue\n",
    "        \n",
    "# test\n",
    "shellSort([54,26,93,17,77,31,44,55,20])"
   ]
  },
  {
   "cell_type": "code",
   "execution_count": 8,
   "metadata": {
    "collapsed": false
   },
   "outputs": [
    {
     "name": "stdout",
     "output_type": "stream",
     "text": [
      "Splitting  [54, 26, 93, 17, 77, 31, 44, 55, 20]\n",
      "Splitting  [54, 26, 93, 17]\n",
      "Splitting  [54, 26]\n",
      "Splitting  [54]\n",
      "Merging  [54]\n",
      "Splitting  [26]\n",
      "Merging  [26]\n",
      "Merging  [26, 54]\n",
      "Splitting  [93, 17]\n",
      "Splitting  [93]\n",
      "Merging  [93]\n",
      "Splitting  [17]\n",
      "Merging  [17]\n",
      "Merging  [17, 93]\n",
      "Merging  [17, 26, 54, 93]\n",
      "Splitting  [77, 31, 44, 55, 20]\n",
      "Splitting  [77, 31]\n",
      "Splitting  [77]\n",
      "Merging  [77]\n",
      "Splitting  [31]\n",
      "Merging  [31]\n",
      "Merging  [31, 77]\n",
      "Splitting  [44, 55, 20]\n",
      "Splitting  [44]\n",
      "Merging  [44]\n",
      "Splitting  [55, 20]\n",
      "Splitting  [55]\n",
      "Merging  [55]\n",
      "Splitting  [20]\n",
      "Merging  [20]\n",
      "Merging  [20, 55]\n",
      "Merging  [20, 44, 55]\n",
      "Merging  [20, 31, 44, 55, 77]\n",
      "Merging  [17, 20, 26, 31, 44, 54, 55, 77, 93]\n",
      "[17, 20, 26, 31, 44, 54, 55, 77, 93]\n"
     ]
    }
   ],
   "source": [
    "### merge sort\n",
    "# divide and conquer strategy\n",
    "# a recursive algorithm\n",
    "# requires additional space\n",
    "def mergeSort(alist):\n",
    "    print(\"Splitting \",alist)\n",
    "    if len(alist)>1:\n",
    "        mid = len(alist)//2\n",
    "        lefthalf = alist[:mid]\n",
    "        righthalf = alist[mid:]\n",
    "        \n",
    "        mergeSort(lefthalf)\n",
    "        mergeSort(righthalf)\n",
    "\n",
    "        i=0\n",
    "        j=0\n",
    "        k=0\n",
    "        ### ordering\n",
    "        while i < len(lefthalf) and j < len(righthalf):\n",
    "            if lefthalf[i] < righthalf[j]:\n",
    "                alist[k]=lefthalf[i]\n",
    "                i=i+1\n",
    "            else:\n",
    "                alist[k]=righthalf[j]\n",
    "                j=j+1\n",
    "            k=k+1\n",
    "        ### merge the rest of left half\n",
    "        while i < len(lefthalf):\n",
    "            alist[k]=lefthalf[i]\n",
    "            i=i+1\n",
    "            k=k+1\n",
    "        ### merge the rest of the right half\n",
    "        while j < len(righthalf):\n",
    "            alist[k]=righthalf[j]\n",
    "            j=j+1\n",
    "            k=k+1\n",
    "    print(\"Merging \",alist)\n",
    "\n",
    "alist = [54,26,93,17,77,31,44,55,20]\n",
    "mergeSort(alist)\n",
    "print(alist)\n"
   ]
  },
  {
   "cell_type": "code",
   "execution_count": 25,
   "metadata": {
    "collapsed": true
   },
   "outputs": [],
   "source": [
    "def mergesort (alist):\n",
    "    print (\"spliting:\", alist)\n",
    "    if len(alist) > 1:\n",
    "        mid = len(alist) // 2\n",
    "        lefthalf = alist[:mid]\n",
    "        righthalf = alist[mid:]\n",
    "        \n",
    "        ### spliting\n",
    "        mergesort(lefthalf)\n",
    "        mergesort(righthalf)\n",
    "\n",
    "        ### sorting\n",
    "        i = 0\n",
    "        j = 0\n",
    "        k = 0\n",
    "        while i < len(lefthalf) and j < len(righthalf):\n",
    "            if lefthalf[i] <= righthalf[j]:\n",
    "                alist[k] = lefthalf[i]\n",
    "                i += 1\n",
    "            else:\n",
    "                alist[k] = righthalf[j]\n",
    "                j += 1\n",
    "            k += 1\n",
    "        ### merge the rest of the left half if it hasn't been exhausted\n",
    "        while i < len(lefthalf):\n",
    "            alist[k] = lefthalf[i]\n",
    "            i += 1\n",
    "            k += 1\n",
    "        while j < len(righthalf):\n",
    "            alist[k] = righthalf[j]\n",
    "            j += 1\n",
    "            k += 1\n",
    "\n",
    "        print(\"merging:\", alist)\n",
    "        return alist\n",
    "    "
   ]
  },
  {
   "cell_type": "code",
   "execution_count": 26,
   "metadata": {
    "collapsed": false
   },
   "outputs": [
    {
     "name": "stdout",
     "output_type": "stream",
     "text": [
      "spliting: [54, 26, 93, 17, 77, 31, 44, 55, 20]\n",
      "spliting: [54, 26, 93, 17]\n",
      "spliting: [54, 26]\n",
      "spliting: [54]\n",
      "spliting: [26]\n",
      "merging: [26, 54]\n",
      "spliting: [93, 17]\n",
      "spliting: [93]\n",
      "spliting: [17]\n",
      "merging: [17, 93]\n",
      "merging: [17, 26, 54, 93]\n",
      "spliting: [77, 31, 44, 55, 20]\n",
      "spliting: [77, 31]\n",
      "spliting: [77]\n",
      "spliting: [31]\n",
      "merging: [31, 77]\n",
      "spliting: [44, 55, 20]\n",
      "spliting: [44]\n",
      "spliting: [55, 20]\n",
      "spliting: [55]\n",
      "spliting: [20]\n",
      "merging: [20, 55]\n",
      "merging: [20, 44, 55]\n",
      "merging: [20, 31, 44, 55, 77]\n",
      "merging: [17, 20, 26, 31, 44, 54, 55, 77, 93]\n",
      "[17, 20, 26, 31, 44, 54, 55, 77, 93]\n"
     ]
    }
   ],
   "source": [
    "alist_sorted = mergesort([54,26,93,17,77,31,44,55,20])\n",
    "print(alist_sorted)"
   ]
  },
  {
   "cell_type": "code",
   "execution_count": 27,
   "metadata": {
    "collapsed": false
   },
   "outputs": [
    {
     "name": "stdout",
     "output_type": "stream",
     "text": [
      "[17, 20, 26, 31, 44, 54, 55, 77, 93]\n"
     ]
    }
   ],
   "source": [
    "### quick sort/partition-exchange sort\n",
    "# divide and conquer\n",
    "def quickSort(alist):\n",
    "   quickSortHelper(alist,0,len(alist)-1)\n",
    "\n",
    "def quickSortHelper(alist,first,last):\n",
    "   if first<last:\n",
    "\n",
    "       splitpoint = partition(alist,first,last)\n",
    "\n",
    "       quickSortHelper(alist,first,splitpoint-1)\n",
    "       quickSortHelper(alist,splitpoint+1,last)\n",
    "\n",
    "\n",
    "def partition(alist,first,last):\n",
    "   pivotvalue = alist[first]\n",
    "\n",
    "   leftmark = first+1\n",
    "   rightmark = last\n",
    "\n",
    "   done = False\n",
    "   while not done:\n",
    "\n",
    "       while leftmark <= rightmark and alist[leftmark] <= pivotvalue:\n",
    "           leftmark = leftmark + 1\n",
    "\n",
    "       while alist[rightmark] >= pivotvalue and rightmark >= leftmark:\n",
    "           rightmark = rightmark -1\n",
    "\n",
    "       if rightmark < leftmark:\n",
    "           done = True\n",
    "       else:\n",
    "           temp = alist[leftmark]\n",
    "           alist[leftmark] = alist[rightmark]\n",
    "           alist[rightmark] = temp\n",
    "\n",
    "   temp = alist[first]\n",
    "   alist[first] = alist[rightmark]\n",
    "   alist[rightmark] = temp\n",
    "\n",
    "\n",
    "   return rightmark\n",
    "\n",
    "alist = [54,26,93,17,77,31,44,55,20]\n",
    "quickSort(alist)\n",
    "print(alist)"
   ]
  },
  {
   "cell_type": "code",
   "execution_count": 35,
   "metadata": {
    "collapsed": false
   },
   "outputs": [
    {
     "name": "stdout",
     "output_type": "stream",
     "text": [
      "[ 0.8360188   0.11314284  0.05083836]\n"
     ]
    },
    {
     "data": {
      "text/plain": [
       "array([[ 0.03321095,  0.03657602,  0.04026786,  0.04431519,  0.04874866,\n",
       "         0.05360079,  0.05890597,  0.06470033,  0.07102165,  0.07790913,\n",
       "         0.08540313,  0.09354484,  0.10237584,  0.11193758,  0.12227071,\n",
       "         0.13341442,  0.1454055 ,  0.15827749,  0.17205954,  0.18677538,\n",
       "         0.20244208,  0.21906889,  0.23665609,  0.25519382,  0.27466117,\n",
       "         0.29502533,  0.31624106,  0.33825043,  0.36098289,  0.38435576,\n",
       "         0.40827509,  0.4326369 ,  0.45732888,  0.48223232,  0.50722433,\n",
       "         0.53218029,  0.55697628,  0.58149154,  0.60561081,  0.62922636,\n",
       "         0.65223985,  0.67456369,  0.69612215,  0.71685193,  0.73670245,\n",
       "         0.75563572,  0.77362587,  0.79065851,  0.80672976,  0.82184522,\n",
       "         0.8360188 ,  0.84927158,  0.86163055,  0.87312754,  0.88379809,\n",
       "         0.89368047,  0.90281483,  0.91124236,  0.91900464,  0.9261431 ,\n",
       "         0.93269849,  0.93871054,  0.94421766,  0.94925668,  0.95386276,\n",
       "         0.9580692 ,  0.96190744,  0.96540703,  0.9685956 ,  0.97149895,\n",
       "         0.97414105,  0.97654413,  0.97872877,  0.98071396,  0.98251718,\n",
       "         0.98415453,  0.98564077,  0.98698946,  0.98821298,  0.98932269],\n",
       "       [ 0.66705977,  0.66473796,  0.66219069,  0.65939813,  0.65633915,\n",
       "         0.6529913 ,  0.64933087,  0.6453329 ,  0.64097135,  0.63621917,\n",
       "         0.6310485 ,  0.62543093,  0.61933776,  0.61274041,  0.60561081,\n",
       "         0.59792194,  0.58964839,  0.58076705,  0.57125779,  0.56110424,\n",
       "         0.55029462,  0.53882253,  0.52668782,  0.51389725,  0.50046528,\n",
       "         0.48641453,  0.47177622,  0.45659032,  0.4409055 ,  0.42477881,\n",
       "         0.40827509,  0.39146606,  0.37442922,  0.35724649,  0.34000264,\n",
       "         0.32278366,  0.30567506,  0.28876015,  0.27211848,  0.25582435,\n",
       "         0.23994563,  0.22454275,  0.20966796,  0.19536494,  0.18166859,\n",
       "         0.16860512,  0.15619237,  0.14444028,  0.13335153,  0.12292225,\n",
       "         0.11314284,  0.10399876,  0.09547139,  0.08753876,  0.08017635,\n",
       "         0.07335776,  0.06705529,  0.06124051,  0.05588473,  0.05095938,\n",
       "         0.04643632,  0.04228816,  0.03848839,  0.03501159,  0.03183352,\n",
       "         0.02893118,  0.02628289,  0.02386827,  0.02166823,  0.019665  ,\n",
       "         0.01784202,  0.01618395,  0.0146766 ,  0.01330688,  0.0120627 ,\n",
       "         0.01093297,  0.0099075 ,  0.00897694,  0.00813274,  0.00736707],\n",
       "       [ 0.29972928,  0.29868602,  0.29754146,  0.29628668,  0.29491219,\n",
       "         0.29340791,  0.29176317,  0.28996677,  0.28800699,  0.2858717 ,\n",
       "         0.28354837,  0.28102423,  0.27828639,  0.27532201,  0.27211848,\n",
       "         0.26866364,  0.2649461 ,  0.26095546,  0.25668267,  0.25212039,\n",
       "         0.24726331,  0.24210857,  0.23665609,  0.23090892,  0.22487355,\n",
       "         0.21856014,  0.21198272,  0.20515925,  0.19811161,  0.19086542,\n",
       "         0.18344982,  0.17589704,  0.16824189,  0.16052119,  0.15277303,\n",
       "         0.14503605,  0.13734866,  0.1297483 ,  0.12227071,  0.11494929,\n",
       "         0.10781452,  0.10089356,  0.09420989,  0.08778313,  0.08162896,\n",
       "         0.07575916,  0.07018176,  0.0649012 ,  0.05991871,  0.05523253,\n",
       "         0.05083836,  0.04672966,  0.04289806,  0.0393337 ,  0.03602556,\n",
       "         0.03296177,  0.03012988,  0.02751713,  0.02511063,  0.02289752,\n",
       "         0.02086519,  0.0190013 ,  0.01729395,  0.01573172,  0.01430372,\n",
       "         0.01299962,  0.01180966,  0.0107247 ,  0.00973616,  0.00883605,\n",
       "         0.00801693,  0.00727192,  0.00659462,  0.00597916,  0.00542012,\n",
       "         0.0049125 ,  0.00445173,  0.0040336 ,  0.00365428,  0.00331024]])"
      ]
     },
     "execution_count": 35,
     "metadata": {},
     "output_type": "execute_result"
    }
   ],
   "source": [
    "scores = [3.0, 1.0, 0.2]\n",
    "\n",
    "import numpy as np\n",
    "\n",
    "def softmax(x):\n",
    "    \"\"\"Compute softmax values for each sets of scores in x.\"\"\"\n",
    "    return np.exp(x) / np.sum(np.exp(x), axis=0)  \n",
    "\n",
    "print(softmax(scores))\n",
    "\n",
    "# Plot softmax curves\n",
    "x = np.arange(-2.0, 6.0, 0.1)\n",
    "scores = np.vstack([x, np.ones_like(x), 0.2 * np.ones_like(x)])\n",
    "softmax(scores)"
   ]
  },
  {
   "cell_type": "code",
   "execution_count": 34,
   "metadata": {
    "collapsed": false
   },
   "outputs": [
    {
     "data": {
      "text/plain": [
       "array([ -2.00000000e+00,  -1.90000000e+00,  -1.80000000e+00,\n",
       "        -1.70000000e+00,  -1.60000000e+00,  -1.50000000e+00,\n",
       "        -1.40000000e+00,  -1.30000000e+00,  -1.20000000e+00,\n",
       "        -1.10000000e+00,  -1.00000000e+00,  -9.00000000e-01,\n",
       "        -8.00000000e-01,  -7.00000000e-01,  -6.00000000e-01,\n",
       "        -5.00000000e-01,  -4.00000000e-01,  -3.00000000e-01,\n",
       "        -2.00000000e-01,  -1.00000000e-01,   1.77635684e-15,\n",
       "         1.00000000e-01,   2.00000000e-01,   3.00000000e-01,\n",
       "         4.00000000e-01,   5.00000000e-01,   6.00000000e-01,\n",
       "         7.00000000e-01,   8.00000000e-01,   9.00000000e-01,\n",
       "         1.00000000e+00,   1.10000000e+00,   1.20000000e+00,\n",
       "         1.30000000e+00,   1.40000000e+00,   1.50000000e+00,\n",
       "         1.60000000e+00,   1.70000000e+00,   1.80000000e+00,\n",
       "         1.90000000e+00,   2.00000000e+00,   2.10000000e+00,\n",
       "         2.20000000e+00,   2.30000000e+00,   2.40000000e+00,\n",
       "         2.50000000e+00,   2.60000000e+00,   2.70000000e+00,\n",
       "         2.80000000e+00,   2.90000000e+00,   3.00000000e+00,\n",
       "         3.10000000e+00,   3.20000000e+00,   3.30000000e+00,\n",
       "         3.40000000e+00,   3.50000000e+00,   3.60000000e+00,\n",
       "         3.70000000e+00,   3.80000000e+00,   3.90000000e+00,\n",
       "         4.00000000e+00,   4.10000000e+00,   4.20000000e+00,\n",
       "         4.30000000e+00,   4.40000000e+00,   4.50000000e+00,\n",
       "         4.60000000e+00,   4.70000000e+00,   4.80000000e+00,\n",
       "         4.90000000e+00,   5.00000000e+00,   5.10000000e+00,\n",
       "         5.20000000e+00,   5.30000000e+00,   5.40000000e+00,\n",
       "         5.50000000e+00,   5.60000000e+00,   5.70000000e+00,\n",
       "         5.80000000e+00,   5.90000000e+00])"
      ]
     },
     "execution_count": 34,
     "metadata": {},
     "output_type": "execute_result"
    }
   ],
   "source": [
    "x"
   ]
  },
  {
   "cell_type": "code",
   "execution_count": 30,
   "metadata": {
    "collapsed": false
   },
   "outputs": [
    {
     "data": {
      "text/plain": [
       "array([ 1.,  1.,  1.,  1.,  1.,  1.,  1.,  1.,  1.,  1.,  1.,  1.,  1.,\n",
       "        1.,  1.,  1.,  1.,  1.,  1.,  1.,  1.,  1.,  1.,  1.,  1.,  1.,\n",
       "        1.,  1.,  1.,  1.,  1.,  1.,  1.,  1.,  1.,  1.,  1.,  1.,  1.,\n",
       "        1.,  1.,  1.,  1.,  1.,  1.,  1.,  1.,  1.,  1.,  1.,  1.,  1.,\n",
       "        1.,  1.,  1.,  1.,  1.,  1.,  1.,  1.,  1.,  1.,  1.,  1.,  1.,\n",
       "        1.,  1.,  1.,  1.,  1.,  1.,  1.,  1.,  1.,  1.,  1.,  1.,  1.,\n",
       "        1.,  1.])"
      ]
     },
     "execution_count": 30,
     "metadata": {},
     "output_type": "execute_result"
    }
   ],
   "source": [
    "np.ones_like(x)"
   ]
  },
  {
   "cell_type": "code",
   "execution_count": null,
   "metadata": {
    "collapsed": true
   },
   "outputs": [],
   "source": []
  }
 ],
 "metadata": {
  "anaconda-cloud": {},
  "kernelspec": {
   "display_name": "Python [Root]",
   "language": "python",
   "name": "Python [Root]"
  },
  "language_info": {
   "codemirror_mode": {
    "name": "ipython",
    "version": 3
   },
   "file_extension": ".py",
   "mimetype": "text/x-python",
   "name": "python",
   "nbconvert_exporter": "python",
   "pygments_lexer": "ipython3",
   "version": "3.5.1"
  }
 },
 "nbformat": 4,
 "nbformat_minor": 0
}
