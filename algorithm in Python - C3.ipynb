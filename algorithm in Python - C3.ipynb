{
 "cells": [
  {
   "cell_type": "code",
   "execution_count": 1,
   "metadata": {
    "collapsed": true
   },
   "outputs": [],
   "source": [
    "# implement a stack\n",
    "class Stack:\n",
    "    def __init__(self):\n",
    "        self.items = []\n",
    "    \n",
    "    def isEmpty(self):\n",
    "        return self.items == []\n",
    "    \n",
    "    def push(self, item):\n",
    "        self.items.append(item)\n",
    "        \n",
    "    def pop(self):\n",
    "        return self.items.pop()\n",
    "    \n",
    "    def peek(self):\n",
    "        return self.items[len(self.items) - 1]\n",
    "    \n",
    "    def size(self):\n",
    "        return len(self.items)"
   ]
  },
  {
   "cell_type": "code",
   "execution_count": 21,
   "metadata": {
    "collapsed": false
   },
   "outputs": [],
   "source": [
    "# 3.9, Infix, Prefix and Postfix Expressions\n",
    "def infix2Postfix(infix_expr):\n",
    "    tokens = list(infix_expr)\n",
    "    priors = {\"(\":1, \"+\":2, \"-\":2, \"*\":3, \"/\":3}\n",
    "    operators = Stack()\n",
    "    postfix_expr = []\n",
    "    for token in tokens:\n",
    "        if token == \" \":\n",
    "            next\n",
    "        elif token in \"0123456789\" or token in \"ABCDEFG\":\n",
    "            postfix_expr.append(token)\n",
    "        elif token == \"(\":\n",
    "            operators.push(token)\n",
    "        elif token == \")\":\n",
    "            last_operat = operators.pop()\n",
    "            while last_operat != \"(\":\n",
    "                postfix_expr.append(last_operat)\n",
    "                last_operat = operators.pop()\n",
    "        else:\n",
    "            while (not operators.isEmpty()) and \\\n",
    "            (priors[operators.peek()] >= priors[token]):\n",
    "                postfix_expr.append(operators.pop())\n",
    "            operators.push(token)\n",
    "    while not operators.isEmpty():\n",
    "        postfix_expr.append(operators.pop())\n",
    "    return postfix_expr"
   ]
  },
  {
   "cell_type": "code",
   "execution_count": 23,
   "metadata": {
    "collapsed": false
   },
   "outputs": [
    {
     "data": {
      "text/plain": [
       "['A', 'B', '+', 'C', '*', 'D', 'E', '-', 'F', 'G', '+', '*', '-']"
      ]
     },
     "execution_count": 23,
     "metadata": {},
     "output_type": "execute_result"
    }
   ],
   "source": [
    "# testing\n",
    "infix2Postfix(\"D+(A+B)*C\")\n",
    "infix2Postfix(\"( A + B ) * C - ( D - E ) * ( F + G )\")"
   ]
  },
  {
   "cell_type": "code",
   "execution_count": 35,
   "metadata": {
    "collapsed": false
   },
   "outputs": [],
   "source": [
    "def postfixEval(postExpr):\n",
    "    tokens = postExpr.split()\n",
    "    result = Stack()\n",
    "    for token in tokens:\n",
    "        if token in \"0123456789\":\n",
    "            result.push(int(token))\n",
    "        else:\n",
    "            lastone1 = result.pop()\n",
    "            lastone2 = result.pop()\n",
    "            if token == \"+\":\n",
    "                lastone = lastone2 + lastone1\n",
    "            elif token == \"-\":\n",
    "                lastone = lastone2 - lastone1\n",
    "            elif token == \"*\":\n",
    "                lastone = lastone2 * lastone1\n",
    "            elif token == \"/\":\n",
    "                lastone = lastone2 / lastone1\n",
    "            result.push(lastone)\n",
    "    return result"
   ]
  },
  {
   "cell_type": "code",
   "execution_count": 36,
   "metadata": {
    "collapsed": false
   },
   "outputs": [
    {
     "name": "stdout",
     "output_type": "stream",
     "text": [
      "3.0\n"
     ]
    }
   ],
   "source": [
    "# testing\n",
    "print(postfixEval('7 8 + 3 2 + /').peek())"
   ]
  },
  {
   "cell_type": "code",
   "execution_count": 47,
   "metadata": {
    "collapsed": false
   },
   "outputs": [],
   "source": [
    "# implement a queue\n",
    "class Queue:\n",
    "    def __init__(self):\n",
    "        self.items = []\n",
    "    \n",
    "    def isEmpty(self):\n",
    "        return self.items == []\n",
    "    \n",
    "    def enqueue(self, item):\n",
    "        self.items.insert(0, item)\n",
    "    \n",
    "    def dequeue(self):\n",
    "        return self.items.pop()\n",
    "    \n",
    "    def size(self):\n",
    "        return len(self.items)"
   ]
  },
  {
   "cell_type": "code",
   "execution_count": 48,
   "metadata": {
    "collapsed": true
   },
   "outputs": [],
   "source": [
    "# hot potato\n",
    "def hotPotato(names, num):\n",
    "    a_queue = Queue()\n",
    "    for name in names:\n",
    "        a_queue.enqueue(name)\n",
    "    while a_queue.size() > 1:\n",
    "        for i in range(num):\n",
    "            name2 = a_queue.dequeue()\n",
    "            a_queue.enqueue(name2)\n",
    "        a_queue.dequeue()\n",
    "    return a_queue.dequeue()\n",
    "        "
   ]
  },
  {
   "cell_type": "code",
   "execution_count": 49,
   "metadata": {
    "collapsed": false
   },
   "outputs": [
    {
     "data": {
      "text/plain": [
       "'Susan'"
      ]
     },
     "execution_count": 49,
     "metadata": {},
     "output_type": "execute_result"
    }
   ],
   "source": [
    "# testing\n",
    "hotPotato([\"Bill\",\"David\",\"Susan\",\"Jane\",\"Kent\",\"Brad\"],7)"
   ]
  },
  {
   "cell_type": "code",
   "execution_count": 75,
   "metadata": {
    "collapsed": true
   },
   "outputs": [],
   "source": [
    "# printing simulation\n",
    "class Printer:\n",
    "    def __init__(self, ppm):\n",
    "        self.rate = ppm\n",
    "        self.currentTask = None\n",
    "        self.timeRemaining = 0\n",
    "        \n",
    "    def tick(self):\n",
    "        if self.currentTask != None:\n",
    "            self.timeRemaining -= 1\n",
    "            if self.timeRemaining  == 0:\n",
    "                self.currentTask = None\n",
    "    \n",
    "    def busy(self):\n",
    "        if self.currentTask != None:\n",
    "            return True\n",
    "        else:\n",
    "            return False\n",
    "    \n",
    "    def startNext(self, newTask):\n",
    "        self.currentTask  = newTask\n",
    "        self.timeRemaining = newTask.getPages() * 60 / self.rate"
   ]
  },
  {
   "cell_type": "code",
   "execution_count": 76,
   "metadata": {
    "collapsed": false
   },
   "outputs": [],
   "source": [
    "import random\n",
    "class Task:\n",
    "    def __init__(self, time):\n",
    "        self.timestamp = time\n",
    "        self.pages = random.randrange(1, 21)\n",
    "    \n",
    "    def getStamp(self):\n",
    "        return self.tiemstamp\n",
    "    \n",
    "    def getPages(self):\n",
    "        return self.pages\n",
    "    \n",
    "    def waitTime(self, currenttime):\n",
    "        return currenttime - self.timestamp\n"
   ]
  },
  {
   "cell_type": "code",
   "execution_count": 77,
   "metadata": {
    "collapsed": true
   },
   "outputs": [],
   "source": [
    "def newPrintTask():\n",
    "    num = random.randrange(1, 181)\n",
    "    if num == 180:\n",
    "        return True\n",
    "    else:\n",
    "        return False"
   ]
  },
  {
   "cell_type": "code",
   "execution_count": 78,
   "metadata": {
    "collapsed": true
   },
   "outputs": [],
   "source": [
    "def simulation(numSeconds, rate):\n",
    "    labprinter = Printer(rate)\n",
    "    printQueue = Queue()\n",
    "    waitingtimes = []\n",
    "    for i in range(numSeconds):\n",
    "        if newPrintTask():\n",
    "            task = Task(i)\n",
    "            printQueue.enqueue(task)\n",
    "        if not labprinter.busy() and not printQueue.isEmpty():\n",
    "            nexttask = printQueue.dequeue()\n",
    "            waitingtimes.append(nexttask.waitTime(i))\n",
    "            labprinter.startNext(nexttask)\n",
    "        labprinter.tick()\n",
    "    averageWait=sum(waitingtimes)/len(waitingtimes)\n",
    "    print(\"Average Wait %6.2f secs %3d tasks remaining.\"%(averageWait,printQueue.size()))"
   ]
  },
  {
   "cell_type": "code",
   "execution_count": 79,
   "metadata": {
    "collapsed": false
   },
   "outputs": [
    {
     "name": "stdout",
     "output_type": "stream",
     "text": [
      "Average Wait 285.78 secs   6 tasks remaining.\n",
      "Average Wait 130.28 secs   0 tasks remaining.\n",
      "Average Wait  41.48 secs   0 tasks remaining.\n",
      "Average Wait 239.84 secs   0 tasks remaining.\n",
      "Average Wait  67.07 secs   0 tasks remaining.\n",
      "Average Wait  47.92 secs   5 tasks remaining.\n",
      "Average Wait 168.06 secs   1 tasks remaining.\n",
      "Average Wait 176.06 secs   1 tasks remaining.\n",
      "Average Wait 134.65 secs   0 tasks remaining.\n",
      "Average Wait 143.93 secs   6 tasks remaining.\n"
     ]
    }
   ],
   "source": [
    "# run simulation\n",
    "for i in range(10):\n",
    "    simulation(3600,5)"
   ]
  },
  {
   "cell_type": "code",
   "execution_count": 80,
   "metadata": {
    "collapsed": true
   },
   "outputs": [],
   "source": [
    "# implement dequeue\n",
    "class Dequeue:\n",
    "    def __init__(self):\n",
    "        self.items = []\n",
    "        \n",
    "    def isEmpty(self):\n",
    "        return self.items == []\n",
    "    \n",
    "    def addFront(self, item):\n",
    "        self.items.append(item)\n",
    "    \n",
    "    def addRear(self, item):\n",
    "        self.items.insert(0, item)\n",
    "        \n",
    "    def removeFront(self):\n",
    "        return self.items.pop()\n",
    "    \n",
    "    def removeRear(self):\n",
    "        return self.items.pop(0)\n",
    "    \n",
    "    def size(self):\n",
    "        return len(self.items)"
   ]
  },
  {
   "cell_type": "code",
   "execution_count": 84,
   "metadata": {
    "collapsed": true
   },
   "outputs": [],
   "source": [
    "# palindrome checker\n",
    "def palchecker(aString):\n",
    "    aDequeue = Dequeue()\n",
    "    for s in aString:\n",
    "        aDequeue.addFront(s)\n",
    "    stillOkay = True\n",
    "    while aDequeue.size() > 1 and stillOkay:\n",
    "        one = aDequeue.removeFront()\n",
    "        two = aDequeue.removeRear()\n",
    "        if one != two:\n",
    "            stillOkay = False\n",
    "    return stillOkay"
   ]
  },
  {
   "cell_type": "code",
   "execution_count": 86,
   "metadata": {
    "collapsed": false
   },
   "outputs": [
    {
     "data": {
      "text/plain": [
       "True"
      ]
     },
     "execution_count": 86,
     "metadata": {},
     "output_type": "execute_result"
    }
   ],
   "source": [
    "palchecker(\"haah\")"
   ]
  },
  {
   "cell_type": "code",
   "execution_count": 4,
   "metadata": {
    "collapsed": true
   },
   "outputs": [],
   "source": [
    "# 3.21\n",
    "# implement a node, the building block of list\n",
    "class Node:\n",
    "    def __init__(self, initdata):\n",
    "        self.data = initdata\n",
    "        self.next = None\n",
    "    \n",
    "    def getData(self):\n",
    "        return self.data\n",
    "    \n",
    "    def getNext(self):\n",
    "        return self.next\n",
    "    \n",
    "    def SetData(self, newdata):\n",
    "        self.data = newdata\n",
    "        \n",
    "    def SetNext(self, nextdata):\n",
    "        self.next = nextdata      "
   ]
  },
  {
   "cell_type": "code",
   "execution_count": 6,
   "metadata": {
    "collapsed": false
   },
   "outputs": [
    {
     "data": {
      "text/plain": [
       "8"
      ]
     },
     "execution_count": 6,
     "metadata": {},
     "output_type": "execute_result"
    }
   ],
   "source": [
    "# test\n",
    "test = Node(9)\n",
    "test.SetNext(8)\n",
    "test.getNext()"
   ]
  },
  {
   "cell_type": "code",
   "execution_count": 40,
   "metadata": {
    "collapsed": false
   },
   "outputs": [],
   "source": [
    "# 3.22\n",
    "# implement an unordered list\n",
    "class UnorderedList:\n",
    "    def __init__(self):\n",
    "        self.head = None\n",
    "    \n",
    "    def isEmpty(self):\n",
    "        return self.head == None\n",
    "    \n",
    "    def add(self, item):\n",
    "        temp = Node(item)\n",
    "        temp.SetNext(self.head)\n",
    "        self.head = temp\n",
    "        \n",
    "    def size(self):\n",
    "        num = 0\n",
    "        current = self.head\n",
    "        while current != None:\n",
    "            num += 1\n",
    "            current = current.getNext()\n",
    "        return num\n",
    "    \n",
    "    def search(self, item):\n",
    "        found = False\n",
    "        current = self.head\n",
    "        while current != None and not found:\n",
    "            found = (current.getData() == item)\n",
    "            current = current.getNext()\n",
    "        return found\n",
    "    \n",
    "    def remove(self, item):\n",
    "        found = False\n",
    "        previous = None\n",
    "        current = self.head\n",
    "        while current != None and not found:\n",
    "            if current.getData() == item:\n",
    "                found = True\n",
    "            else:\n",
    "                previous = current\n",
    "                current = current.getNext()\n",
    "        if previous == None:\n",
    "            self.head = current.getNext()\n",
    "        else:\n",
    "            previous.SetNext(current.getNext())"
   ]
  },
  {
   "cell_type": "code",
   "execution_count": 45,
   "metadata": {
    "collapsed": false
   },
   "outputs": [
    {
     "data": {
      "text/plain": [
       "3"
      ]
     },
     "execution_count": 45,
     "metadata": {},
     "output_type": "execute_result"
    }
   ],
   "source": [
    "# test\n",
    "test2 = UnorderedList()\n",
    "test2.add(1)\n",
    "test2.add(2)\n",
    "test2.add(3)\n",
    "test2.size()"
   ]
  },
  {
   "cell_type": "code",
   "execution_count": 63,
   "metadata": {
    "collapsed": true
   },
   "outputs": [],
   "source": [
    "# 3.23\n",
    "# Ordered list\n",
    "class OrderedList:\n",
    "    def __init__(self):\n",
    "        self.head = None\n",
    "        \n",
    "    def isEmpty(self):\n",
    "        return self.head == None\n",
    "    \n",
    "    def size(self):\n",
    "        num = 0\n",
    "        current = self.head\n",
    "        while current != None:\n",
    "            num += 1\n",
    "            current = current.getNext()\n",
    "        return num\n",
    "    \n",
    "    def search(self, item):\n",
    "        current = self.head\n",
    "        found = False\n",
    "        stop = False\n",
    "        while current != None and not found and not stop:\n",
    "            current_data = current.getData()\n",
    "            if current_data < item:\n",
    "                current = current.getNext()\n",
    "            elif current_data == item:\n",
    "                found = True\n",
    "            else:\n",
    "                stop = True\n",
    "        return found\n",
    "    \n",
    "    def add(self, item):\n",
    "        current = self.head\n",
    "        previous = None\n",
    "        stop = False\n",
    "        while current != None and not stop:\n",
    "            current_data = current.getData()\n",
    "            if current_data < item:\n",
    "                previous = current\n",
    "                current = current.getNext()\n",
    "            else:\n",
    "                stop = True\n",
    "        \n",
    "        new_item = Node(item)\n",
    "        if previous == None:\n",
    "            self.head = new_item\n",
    "        else:\n",
    "            previous.SetNext(new_item)\n",
    "            previous.getNext().SetNext(current)"
   ]
  },
  {
   "cell_type": "code",
   "execution_count": 69,
   "metadata": {
    "collapsed": false
   },
   "outputs": [],
   "source": [
    "# test\n",
    "test3 = OrderedList()\n",
    "test3.isEmpty()\n",
    "test3.add(1)\n"
   ]
  },
  {
   "cell_type": "code",
   "execution_count": 71,
   "metadata": {
    "collapsed": false
   },
   "outputs": [
    {
     "data": {
      "text/plain": [
       "False"
      ]
     },
     "execution_count": 71,
     "metadata": {},
     "output_type": "execute_result"
    }
   ],
   "source": [
    "test3.isEmpty()"
   ]
  },
  {
   "cell_type": "code",
   "execution_count": null,
   "metadata": {
    "collapsed": true
   },
   "outputs": [],
   "source": []
  }
 ],
 "metadata": {
  "anaconda-cloud": {},
  "kernelspec": {
   "display_name": "Python [Root]",
   "language": "python",
   "name": "Python [Root]"
  },
  "language_info": {
   "codemirror_mode": {
    "name": "ipython",
    "version": 3
   },
   "file_extension": ".py",
   "mimetype": "text/x-python",
   "name": "python",
   "nbconvert_exporter": "python",
   "pygments_lexer": "ipython3",
   "version": "3.5.1"
  }
 },
 "nbformat": 4,
 "nbformat_minor": 0
}
